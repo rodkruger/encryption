{
 "cells": [
  {
   "cell_type": "code",
   "execution_count": null,
   "metadata": {},
   "outputs": [],
   "source": [
    "pip install concrete-python"
   ]
  },
  {
   "cell_type": "code",
   "execution_count": null,
   "metadata": {},
   "outputs": [],
   "source": [
    "pip install concrete-ml"
   ]
  },
  {
   "cell_type": "code",
   "execution_count": null,
   "metadata": {},
   "outputs": [],
   "source": [
    "import numpy as np\n",
    "import pandas as pd\n",
    "import time"
   ]
  },
  {
   "cell_type": "code",
   "execution_count": null,
   "metadata": {},
   "outputs": [],
   "source": [
    "from concrete.ml.sklearn import SGDClassifier\n",
    "\n",
    "from sklearn.datasets import load_wine, load_breast_cancer\n",
    "from sklearn.model_selection import train_test_split\n",
    "from sklearn.metrics import accuracy_score\n",
    "from sklearn.preprocessing import StandardScaler"
   ]
  },
  {
   "cell_type": "code",
   "execution_count": null,
   "metadata": {},
   "outputs": [],
   "source": [
    "def train_model(x_train, y_train, p_fit_encrypted=True, p_fhe_mode=\"execute\"):\n",
    "    \"\"\"\n",
    "    Build and train a SGDClassifier applying FHE\n",
    "    \"\"\"\n",
    "\n",
    "    start_time = time.time()\n",
    "    parameters_range = (-1.0, 1.0)\n",
    "\n",
    "    model = SGDClassifier(\n",
    "        random_state=42,\n",
    "        max_iter=50,\n",
    "        fit_encrypted=p_fit_encrypted,\n",
    "        parameters_range=parameters_range,\n",
    "    )\n",
    "\n",
    "    model.fit(x_train, y_train, fhe=p_fhe_mode)\n",
    "    model.compile(x_train)\n",
    "    end_time = time.time()\n",
    "    elapsed_time = end_time - start_time\n",
    "\n",
    "    print(f'Training time: {elapsed_time:.6f} seconds')\n",
    "\n",
    "    return model"
   ]
  },
  {
   "cell_type": "code",
   "execution_count": null,
   "metadata": {},
   "outputs": [],
   "source": [
    "def test_model(x_test, y_test, p_model, p_fhe_mode=\"execute\"):\n",
    "    \"\"\"\n",
    "    Tests the model with the test dataset\n",
    "    \"\"\"\n",
    "    start_time = time.time()\n",
    "    y_pred = p_model.predict(x_test, fhe=p_fhe_mode)\n",
    "    accuracy = accuracy_score(y_test, y_pred)\n",
    "    end_time = time.time()\n",
    "    elapsed_time = end_time - start_time\n",
    "\n",
    "    print(f'Testing time: {elapsed_time:.6f} seconds. Accuracy: {accuracy:.4f}')"
   ]
  },
  {
   "cell_type": "code",
   "execution_count": null,
   "metadata": {},
   "outputs": [],
   "source": [
    "def get_wine_data():\n",
    "    \"\"\"\n",
    "    Read wine dataset from UCI. Transform data into a binary problem and \n",
    "    scaled by the StandardScaler.\n",
    "    \"\"\"\n",
    "\n",
    "    wine_data = load_wine()\n",
    "    x = wine_data.data\n",
    "    y = wine_data.target\n",
    "\n",
    "    # Roughly transform the database into a binary classification, because\n",
    "    # concrete-ml can only work on binary problems. This is not correct, is\n",
    "    # just to test concrete-ml\n",
    "    mapping = {0: 0, 1: 0, 2: 1}\n",
    "    y = np.array([mapping[x] for x in y])\n",
    "\n",
    "    # Scale data\n",
    "    x = StandardScaler().fit_transform(x)\n",
    "\n",
    "    return x, y"
   ]
  },
  {
   "cell_type": "code",
   "execution_count": null,
   "metadata": {},
   "outputs": [],
   "source": [
    "def get_cancer_data():\n",
    "    \"\"\"\n",
    "    Read wine dataset from UCI. Transform data into a binary problem and \n",
    "    scaled by the StandardScaler.\n",
    "    \"\"\"\n",
    "\n",
    "    cancer_data = load_breast_cancer()\n",
    "    x = cancer_data.data\n",
    "    y = cancer_data.target\n",
    "\n",
    "    # Scale data\n",
    "    x = StandardScaler().fit_transform(x)\n",
    "\n",
    "    return x, y"
   ]
  },
  {
   "cell_type": "code",
   "execution_count": null,
   "metadata": {},
   "outputs": [],
   "source": [
    "print(\">>> Wine dataset ...\")\n",
    "x, y = get_wine_data()\n",
    "x_train, x_test, y_train, y_test = train_test_split(x, y, test_size=0.3, random_state=42)"
   ]
  },
  {
   "cell_type": "code",
   "execution_count": null,
   "metadata": {},
   "outputs": [],
   "source": [
    "print(\"# Building models on clear data\")\n",
    "model = train_model(x_train, y_train, p_fit_encrypted=False, p_fhe_mode=None)\n",
    "test_model(x_test, y_test, model, p_fhe_mode=\"disable\")"
   ]
  },
  {
   "cell_type": "code",
   "execution_count": null,
   "metadata": {},
   "outputs": [],
   "source": [
    "print(\"# Building models on encrypted data\")\n",
    "model = train_model(x_train, y_train)\n",
    "test_model(x_test, y_test, model)"
   ]
  },
  {
   "cell_type": "code",
   "execution_count": null,
   "metadata": {},
   "outputs": [],
   "source": [
    "print(\">>> Cancer dataset ...\")\n",
    "x, y = get_cancer_data()\n",
    "x_train, x_test, y_train, y_test = train_test_split(x, y, test_size=0.3, random_state=42)"
   ]
  },
  {
   "cell_type": "code",
   "execution_count": null,
   "metadata": {},
   "outputs": [],
   "source": [
    "print(\"# Building models on clear data\")\n",
    "model = train_model(x_train, y_train, p_fit_encrypted=False, p_fhe_mode=None)\n",
    "test_model(x_test, y_test, model, p_fhe_mode=\"disable\")"
   ]
  },
  {
   "cell_type": "code",
   "execution_count": null,
   "metadata": {},
   "outputs": [],
   "source": [
    "print(\"# Building models on encrypted data\")\n",
    "model = train_model(x_train, y_train)\n",
    "test_model(x_test, y_test, model)"
   ]
  }
 ],
 "metadata": {
  "language_info": {
   "name": "python"
  }
 },
 "nbformat": 4,
 "nbformat_minor": 2
}
